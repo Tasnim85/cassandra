{
 "cells": [
  {
   "cell_type": "markdown",
   "metadata": {},
   "source": [
    "# Import libraries"
   ]
  },
  {
   "cell_type": "code",
   "execution_count": 56,
   "metadata": {},
   "outputs": [],
   "source": [
    "from cassandra.cluster import Cluster\n",
    "from prettytable import PrettyTable"
   ]
  },
  {
   "cell_type": "code",
   "execution_count": 12,
   "metadata": {},
   "outputs": [],
   "source": [
    "table_name = \"annuaire\"\n",
    "columns = [\"id\",\"name\",\"phone_number\"]\n"
   ]
  },
  {
   "cell_type": "markdown",
   "metadata": {},
   "source": [
    "# Define Cassandra connection details"
   ]
  },
  {
   "cell_type": "code",
   "execution_count": 91,
   "metadata": {},
   "outputs": [],
   "source": [
    "cluster = Cluster(['127.0.0.1'])\n",
    "session = cluster.connect()"
   ]
  },
  {
   "cell_type": "markdown",
   "metadata": {},
   "source": [
    "# Use keyspace"
   ]
  },
  {
   "cell_type": "code",
   "execution_count": 93,
   "metadata": {},
   "outputs": [
    {
     "name": "stdout",
     "output_type": "stream",
     "text": [
      "keyspace IsetRades is being used !!!!\n"
     ]
    }
   ],
   "source": [
    "keyspace_name = \"IsetRades\"\n",
    "\n",
    "session.execute(f\"\"\"USE {keyspace_name}\"\"\")\n",
    "print(f\"keyspace {keyspace_name} is being used !!!!\")"
   ]
  },
  {
   "cell_type": "markdown",
   "metadata": {},
   "source": [
    "# Select Command"
   ]
  },
  {
   "cell_type": "markdown",
   "metadata": {},
   "source": [
    "select"
   ]
  },
  {
   "cell_type": "code",
   "execution_count": 94,
   "metadata": {},
   "outputs": [
    {
     "name": "stdout",
     "output_type": "stream",
     "text": [
      "Error selecting data from table \"annuaire\": Error from server: code=2200 [Invalid query] message=\"table annuaire does not exist\"\n"
     ]
    }
   ],
   "source": [
    "selectQuery = f\"SELECT {', '.join(columns)} FROM {table_name};\"\n",
    "    \n",
    "try:\n",
    "    result = session.execute(selectQuery)\n",
    "    print(f'Table \"{table_name}\" data:')\n",
    "    print(result.current_rows)\n",
    "except Exception as error:\n",
    "    print(f'Error selecting data from table \"{table_name}\": {error}')"
   ]
  },
  {
   "cell_type": "markdown",
   "metadata": {},
   "source": [
    "select using order by ASC"
   ]
  },
  {
   "cell_type": "markdown",
   "metadata": {},
   "source": [
    "select using order by DESC"
   ]
  },
  {
   "cell_type": "markdown",
   "metadata": {},
   "source": [
    "# Insert Command"
   ]
  },
  {
   "cell_type": "code",
   "execution_count": 79,
   "metadata": {},
   "outputs": [
    {
     "name": "stdout",
     "output_type": "stream",
     "text": [
      "Data inserted into table \"annuaire\" successfully.\n"
     ]
    }
   ],
   "source": [
    "# Assuming 'id' is the partition key and 'name' is a clustering column\n",
    "insert_query = f\"INSERT INTO {table_name} (id, name, phone_number) VALUES (3, 'Jane Doe', '456-456-5847');\"\n",
    "\n",
    "# Execute the query\n",
    "try:\n",
    "    session.execute(insert_query)\n",
    "    print(f'Data inserted into table \"{table_name}\" successfully.')\n",
    "except Exception as error:\n",
    "    print(f'Error inserting data into table \"{table_name}\": {error}')\n"
   ]
  },
  {
   "cell_type": "markdown",
   "metadata": {},
   "source": [
    "# Update Command"
   ]
  },
  {
   "cell_type": "code",
   "execution_count": 72,
   "metadata": {},
   "outputs": [
    {
     "name": "stdout",
     "output_type": "stream",
     "text": [
      "Data updated in table \"annuaire\" successfully.\n"
     ]
    }
   ],
   "source": [
    "# Assuming 'id' is the partition key and 'name' is a clustering column\n",
    "update_query = f\"UPDATE {table_name} SET phone_number = '987-654-3210' WHERE id = 1;\"\n",
    "\n",
    "# Execute the query\n",
    "try:\n",
    "    session.execute(update_query)\n",
    "    print(f'Data updated in table \"{table_name}\" successfully.')\n",
    "except Exception as error:\n",
    "    print(f'Error updating data in table \"{table_name}\": {error}')\n"
   ]
  },
  {
   "cell_type": "markdown",
   "metadata": {},
   "source": [
    "# Delete Command"
   ]
  },
  {
   "cell_type": "code",
   "execution_count": 88,
   "metadata": {},
   "outputs": [
    {
     "name": "stdout",
     "output_type": "stream",
     "text": [
      "Data deleted from table \"annuaire\" successfully.\n"
     ]
    }
   ],
   "source": [
    "# Assuming 'id' is the partition key and 'name' is a clustering column\n",
    "delete_query = f\"DELETE FROM {table_name} WHERE id = 1;\"\n",
    "\n",
    "# Execute the query\n",
    "try:\n",
    "    session.execute(delete_query)\n",
    "    print(f'Data deleted from table \"{table_name}\" successfully.')\n",
    "except Exception as error:\n",
    "    print(f'Error deleting data from table \"{table_name}\": {error}')\n"
   ]
  },
  {
   "cell_type": "markdown",
   "metadata": {},
   "source": [
    "# Close Connection"
   ]
  },
  {
   "cell_type": "code",
   "execution_count": null,
   "metadata": {},
   "outputs": [],
   "source": [
    "session.shutdown()\n",
    "cluster.shutdown()"
   ]
  }
 ],
 "metadata": {
  "kernelspec": {
   "display_name": "Python 3",
   "language": "python",
   "name": "python3"
  },
  "language_info": {
   "codemirror_mode": {
    "name": "ipython",
    "version": 3
   },
   "file_extension": ".py",
   "mimetype": "text/x-python",
   "name": "python",
   "nbconvert_exporter": "python",
   "pygments_lexer": "ipython3",
   "version": "3.10.7"
  },
  "orig_nbformat": 4
 },
 "nbformat": 4,
 "nbformat_minor": 2
}
