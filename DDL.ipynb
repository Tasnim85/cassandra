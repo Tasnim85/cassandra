{
 "cells": [
  {
   "cell_type": "markdown",
   "metadata": {},
   "source": [
    "# Import libraries"
   ]
  },
  {
   "cell_type": "code",
   "execution_count": 8,
   "metadata": {},
   "outputs": [],
   "source": [
    "from cassandra.cluster import Cluster\n",
    "from prettytable import PrettyTable"
   ]
  },
  {
   "cell_type": "markdown",
   "metadata": {},
   "source": [
    "# Define Cassandra connection details"
   ]
  },
  {
   "cell_type": "code",
   "execution_count": 9,
   "metadata": {},
   "outputs": [],
   "source": [
    "cluster = Cluster(['127.0.0.1'])\n",
    "session = cluster.connect()"
   ]
  },
  {
   "cell_type": "markdown",
   "metadata": {},
   "source": [
    "# Use keyspace"
   ]
  },
  {
   "cell_type": "code",
   "execution_count": 30,
   "metadata": {},
   "outputs": [
    {
     "name": "stdout",
     "output_type": "stream",
     "text": [
      "keyspace IsetRades is being used !!!!\n"
     ]
    }
   ],
   "source": [
    "keyspace_name = \"IsetRades\"\n",
    "\n",
    "session.execute(f\"\"\"USE {keyspace_name}\"\"\")\n",
    "print(f\"keyspace {keyspace_name} is being used !!!!\")"
   ]
  },
  {
   "cell_type": "markdown",
   "metadata": {},
   "source": [
    "# Create table"
   ]
  },
  {
   "cell_type": "markdown",
   "metadata": {},
   "source": [
    "define table strucutre"
   ]
  },
  {
   "cell_type": "code",
   "execution_count": 29,
   "metadata": {},
   "outputs": [
    {
     "name": "stdout",
     "output_type": "stream",
     "text": [
      "Stored 'table_name' (str)\n",
      "Stored 'column_names' (list)\n",
      "annuaire: [{'name': 'id', 'type': 'int'}, {'name': 'name', 'type': 'text'}, {'name': 'phone_number', 'type': 'text'}]\n"
     ]
    }
   ],
   "source": [
    "table_name = \"annuaire\"\n",
    "columns = [\n",
    "    {\"name\": \"id\", \"type\": \"int\"},\n",
    "    {\"name\": \"name\", \"type\": \"text\"},\n",
    "    {\"name\": \"phone_number\", \"type\": \"text\"}\n",
    "]\n",
    "\n",
    "%store table_name\n",
    "column_names = [column[\"name\"] for column in columns]\n",
    "%store column_names\n",
    "\n",
    "print( f\"{table_name}: {columns}\" )"
   ]
  },
  {
   "cell_type": "markdown",
   "metadata": {},
   "source": [
    "creating the table"
   ]
  },
  {
   "cell_type": "code",
   "execution_count": 27,
   "metadata": {},
   "outputs": [
    {
     "name": "stdout",
     "output_type": "stream",
     "text": [
      "Table \"annuaire\" created successfully.\n"
     ]
    }
   ],
   "source": [
    "column_definitions = ', '.join([f'{column[\"name\"]} {column[\"type\"]}' for column in columns])\n",
    "create_table_query = f\"\"\"\n",
    "CREATE TABLE IF NOT EXISTS {table_name} (\n",
    "    {column_definitions},\n",
    "    PRIMARY KEY ({columns[0][\"name\"]})\n",
    ");\n",
    "\"\"\"\n",
    "\n",
    "try:\n",
    "    session.execute(create_table_query)\n",
    "    print(f'Table \"{table_name}\" created successfully.')\n",
    "except Exception as error:\n",
    "    print(f'Error creating table \"{table_name}\":', error)\n"
   ]
  },
  {
   "cell_type": "markdown",
   "metadata": {},
   "source": [
    "# Describe Table"
   ]
  },
  {
   "cell_type": "code",
   "execution_count": 36,
   "metadata": {},
   "outputs": [
    {
     "name": "stdout",
     "output_type": "stream",
     "text": [
      "+---------------+-------+----------+------------------------------------------------------------------------------------------------------------------------------------------------+\n",
      "| keyspace_name |  type |   name   |                                                                create_statement                                                                |\n",
      "+---------------+-------+----------+------------------------------------------------------------------------------------------------------------------------------------------------+\n",
      "|   isetrades   | table | annuaire |                                                       CREATE TABLE isetrades.annuaire (                                                        |\n",
      "|               |       |          |                                                                id int PRIMARY KEY,                                                             |\n",
      "|               |       |          |                                                                     name text,                                                                 |\n",
      "|               |       |          |                                                                 phone_number text                                                              |\n",
      "|               |       |          |                                                     ) WITH additional_write_policy = '99p'                                                     |\n",
      "|               |       |          |                                                         AND bloom_filter_fp_chance = 0.01                                                      |\n",
      "|               |       |          |                                            AND caching = {'keys': 'ALL', 'rows_per_partition': 'NONE'}                                         |\n",
      "|               |       |          |                                                                  AND cdc = false                                                               |\n",
      "|               |       |          |                                                                  AND comment = ''                                                              |\n",
      "|               |       |          |     AND compaction = {'class': 'org.apache.cassandra.db.compaction.SizeTieredCompactionStrategy', 'max_threshold': '32', 'min_threshold': '4'} |\n",
      "|               |       |          |                     AND compression = {'chunk_length_in_kb': '16', 'class': 'org.apache.cassandra.io.compress.LZ4Compressor'}                  |\n",
      "|               |       |          |                                                              AND memtable = 'default'                                                          |\n",
      "|               |       |          |                                                             AND crc_check_chance = 1.0                                                         |\n",
      "|               |       |          |                                                            AND default_time_to_live = 0                                                        |\n",
      "|               |       |          |                                                                AND extensions = {}                                                             |\n",
      "|               |       |          |                                                           AND gc_grace_seconds = 864000                                                        |\n",
      "|               |       |          |                                                           AND max_index_interval = 2048                                                        |\n",
      "|               |       |          |                                                        AND memtable_flush_period_in_ms = 0                                                     |\n",
      "|               |       |          |                                                            AND min_index_interval = 128                                                        |\n",
      "|               |       |          |                                                            AND read_repair = 'BLOCKING'                                                        |\n",
      "|               |       |          |                                                           AND speculative_retry = '99p';                                                       |\n",
      "+---------------+-------+----------+------------------------------------------------------------------------------------------------------------------------------------------------+\n"
     ]
    }
   ],
   "source": [
    "table_name = \"annuaire\"\n",
    "describe_table_query = f'DESCRIBE TABLE {table_name};'\n",
    "\n",
    "try:\n",
    "    result = session.execute(describe_table_query)\n",
    "\n",
    "    # Create a PrettyTable object\n",
    "    table = PrettyTable(result.column_names)\n",
    "\n",
    "    # Populate the table with rows from the result\n",
    "    for row in result:\n",
    "        table.add_row(row)\n",
    "\n",
    "    # Print the table\n",
    "    print(table)\n",
    "\n",
    "except Exception as error:\n",
    "    print('Error describing table:', error)"
   ]
  },
  {
   "cell_type": "markdown",
   "metadata": {},
   "source": [
    "# Alter table (adding a new column)"
   ]
  },
  {
   "cell_type": "code",
   "execution_count": 33,
   "metadata": {},
   "outputs": [
    {
     "name": "stdout",
     "output_type": "stream",
     "text": [
      "Table \"annuaire\" altered successfully.\n"
     ]
    }
   ],
   "source": [
    "table_name = \"annuaire\"\n",
    "column_name = \"partition_key_column\"\n",
    "column_type = \"int\"\n",
    "\n",
    "alter_table_query = f\"\"\"\n",
    "ALTER TABLE {table_name}\n",
    "ADD {column_name} {column_type};\n",
    "\"\"\"\n",
    "\n",
    "try:\n",
    "    session.execute(alter_table_query)\n",
    "    print(f'Table \"{table_name}\" altered successfully.')\n",
    "except Exception as error:\n",
    "    print('Error altering table:', error)"
   ]
  },
  {
   "cell_type": "markdown",
   "metadata": {},
   "source": [
    "# Aler table (changing an existing column)"
   ]
  },
  {
   "cell_type": "code",
   "execution_count": 28,
   "metadata": {},
   "outputs": [
    {
     "name": "stdout",
     "output_type": "stream",
     "text": [
      "Error changing column: Error from server: code=2200 [Invalid query] message=\"Altering column types is no longer supported\"\n"
     ]
    }
   ],
   "source": [
    "# Changing an existing column\n",
    "table_name = \"annuaire\"\n",
    "existing_column_name = \"last_name\"\n",
    "new_column_type = \"varchar\"  # Change the type as needed\n",
    "\n",
    "alter_change_column_query = f\"\"\"\n",
    "ALTER TABLE {table_name}\n",
    "ALTER {existing_column_name} TYPE {new_column_type};\n",
    "\"\"\"\n",
    "\n",
    "try:\n",
    "    session.execute(alter_change_column_query)\n",
    "    print(f'Column \"{existing_column_name}\" in table \"{table_name}\" altered successfully.')\n",
    "except Exception as error:\n",
    "    print('Error changing column:', error)\n"
   ]
  },
  {
   "cell_type": "markdown",
   "metadata": {},
   "source": [
    "# Alter table (dropping an existing column)"
   ]
  },
  {
   "cell_type": "code",
   "execution_count": 35,
   "metadata": {},
   "outputs": [
    {
     "name": "stdout",
     "output_type": "stream",
     "text": [
      "Column \"partition_key_column\" dropped from table \"annuaire\" successfully.\n"
     ]
    }
   ],
   "source": [
    "able_name = \"annuaire\"\n",
    "column_to_drop = \"partition_key_column\"\n",
    "\n",
    "alter_drop_column_query = f\"\"\"\n",
    "ALTER TABLE {table_name}\n",
    "DROP {column_to_drop};\n",
    "\"\"\"\n",
    "\n",
    "try:\n",
    "    session.execute(alter_drop_column_query)\n",
    "    print(f'Column \"{column_to_drop}\" dropped from table \"{table_name}\" successfully.')\n",
    "except Exception as error:\n",
    "    print('Error dropping column:', error)"
   ]
  },
  {
   "cell_type": "markdown",
   "metadata": {},
   "source": [
    "# Drop table"
   ]
  },
  {
   "cell_type": "code",
   "execution_count": 38,
   "metadata": {},
   "outputs": [
    {
     "name": "stdout",
     "output_type": "stream",
     "text": [
      "Table \"annuaire\" dropped successfully.\n"
     ]
    }
   ],
   "source": [
    "table_name = \"annuaire\"\n",
    "\n",
    "drop_table_query = f'DROP TABLE IF EXISTS {table_name};'\n",
    "\n",
    "try:\n",
    "    session.execute(drop_table_query)\n",
    "    print(f'Table \"{table_name}\" dropped successfully.')\n",
    "except Exception as error:\n",
    "    print('Error dropping table:', error)\n"
   ]
  },
  {
   "cell_type": "markdown",
   "metadata": {},
   "source": [
    "# Close Connection"
   ]
  },
  {
   "cell_type": "code",
   "execution_count": null,
   "metadata": {},
   "outputs": [],
   "source": [
    "session.shutdown()\n",
    "cluster.shutdown()"
   ]
  }
 ],
 "metadata": {
  "kernelspec": {
   "display_name": "Python 3",
   "language": "python",
   "name": "python3"
  },
  "language_info": {
   "codemirror_mode": {
    "name": "ipython",
    "version": 3
   },
   "file_extension": ".py",
   "mimetype": "text/x-python",
   "name": "python",
   "nbconvert_exporter": "python",
   "pygments_lexer": "ipython3",
   "version": "3.10.7"
  },
  "orig_nbformat": 4
 },
 "nbformat": 4,
 "nbformat_minor": 2
}
