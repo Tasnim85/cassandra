{
 "cells": [
  {
   "cell_type": "markdown",
   "metadata": {},
   "source": [
    "# Import libraries"
   ]
  },
  {
   "cell_type": "code",
   "execution_count": 1,
   "metadata": {},
   "outputs": [],
   "source": [
    "from cassandra.cluster import Cluster"
   ]
  },
  {
   "cell_type": "markdown",
   "metadata": {},
   "source": [
    "# Define Cassandra connection details"
   ]
  },
  {
   "cell_type": "code",
   "execution_count": 2,
   "metadata": {},
   "outputs": [],
   "source": [
    "cluster = Cluster(['127.0.0.1'])\n",
    "session = cluster.connect()"
   ]
  },
  {
   "cell_type": "markdown",
   "metadata": {},
   "source": [
    "# Create keyspace if it doesn't exist"
   ]
  },
  {
   "cell_type": "code",
   "execution_count": 6,
   "metadata": {},
   "outputs": [
    {
     "name": "stdout",
     "output_type": "stream",
     "text": [
      "keyspace IsetRades created successfully!!!\n"
     ]
    }
   ],
   "source": [
    "keyspace_name = \"IsetRades\"\n",
    "\n",
    "if keyspace_name not in session.cluster.metadata.keyspaces:\n",
    "    session.execute(f\"\"\"\n",
    "        CREATE KEYSPACE {keyspace_name} WITH replication = {{ 'class': 'SimpleStrategy', 'replication_factor': 1 }} AND durable_writes = true\n",
    "    \"\"\")\n",
    "    print(f\"keyspace {keyspace_name} created successfully!!!\")\n",
    "else:\n",
    "    print(f\"keyspace {keyspace_name} already exists!!!\")\n",
    "\n"
   ]
  },
  {
   "cell_type": "markdown",
   "metadata": {},
   "source": [
    "# Display all keyspaces"
   ]
  },
  {
   "cell_type": "code",
   "execution_count": 7,
   "metadata": {},
   "outputs": [
    {
     "name": "stdout",
     "output_type": "stream",
     "text": [
      "Available Keyspaces:\n",
      "- system_auth\n",
      "- system_schema\n",
      "- system_distributed\n",
      "- system\n",
      "- isetrades\n",
      "- system_traces\n"
     ]
    }
   ],
   "source": [
    "keyspaces = session.execute(\"\"\"\n",
    "SELECT keyspace_name FROM system_schema.keyspaces;\n",
    "\"\"\")\n",
    "print(\"Available Keyspaces:\")\n",
    "for keyspace in keyspaces:\n",
    "    print(\"- \" + keyspace[0])"
   ]
  },
  {
   "cell_type": "markdown",
   "metadata": {},
   "source": [
    "# Delete keyspace"
   ]
  },
  {
   "cell_type": "code",
   "execution_count": 4,
   "metadata": {},
   "outputs": [
    {
     "name": "stdout",
     "output_type": "stream",
     "text": [
      "keyspace isetrades deleted sucessfully\n"
     ]
    }
   ],
   "source": [
    "keyspace_name = \"isetrades\"\n",
    "session.execute(\"\"\"\n",
    "DROP KEYSPACE %s;\n",
    "\"\"\" % keyspace_name)\n",
    "print(\"keyspace %s deleted sucessfully\"% keyspace_name)"
   ]
  },
  {
   "cell_type": "markdown",
   "metadata": {},
   "source": [
    "# Close the connection"
   ]
  },
  {
   "cell_type": "code",
   "execution_count": null,
   "metadata": {},
   "outputs": [],
   "source": [
    "session.shutdown()\n",
    "cluster.shutdown()"
   ]
  }
 ],
 "metadata": {
  "kernelspec": {
   "display_name": "Python 3",
   "language": "python",
   "name": "python3"
  },
  "language_info": {
   "codemirror_mode": {
    "name": "ipython",
    "version": 3
   },
   "file_extension": ".py",
   "mimetype": "text/x-python",
   "name": "python",
   "nbconvert_exporter": "python",
   "pygments_lexer": "ipython3",
   "version": "3.10.7"
  },
  "orig_nbformat": 4
 },
 "nbformat": 4,
 "nbformat_minor": 2
}
